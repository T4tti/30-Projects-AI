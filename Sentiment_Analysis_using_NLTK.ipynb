{
  "nbformat": 4,
  "nbformat_minor": 0,
  "metadata": {
    "colab": {
      "provenance": []
    },
    "kernelspec": {
      "name": "python3",
      "display_name": "Python 3"
    },
    "language_info": {
      "name": "python"
    }
  },
  "cells": [
    {
      "cell_type": "markdown",
      "source": [
        "\n",
        "# Basic Sentiment Analysis on text data using NLTK\n",
        "\n"
      ],
      "metadata": {
        "id": "OK69tRIaDCIJ"
      }
    },
    {
      "cell_type": "markdown",
      "source": [
        "Import required libraries"
      ],
      "metadata": {
        "id": "UIA7uqf7Dcha"
      }
    },
    {
      "cell_type": "code",
      "execution_count": 16,
      "metadata": {
        "id": "m9fMcFAZCuHW"
      },
      "outputs": [],
      "source": [
        "import nltk\n",
        "from nltk.corpus import movie_reviews, stopwords\n",
        "from nltk.classify import NaiveBayesClassifier\n",
        "from nltk.classify.util import accuracy as nltk_accuracy\n",
        "import random\n",
        "from sklearn.model_selection import train_test_split"
      ]
    },
    {
      "cell_type": "markdown",
      "source": [
        "Dowload the NLTK data files"
      ],
      "metadata": {
        "id": "YTGpkTwoF8p-"
      }
    },
    {
      "cell_type": "code",
      "source": [
        "\n",
        "nltk.download('movie_reviews')\n",
        "nltk.download('stopwords')\n",
        "nltk.download('punkt')"
      ],
      "metadata": {
        "colab": {
          "base_uri": "https://localhost:8080/"
        },
        "id": "-zoTzfMLExvj",
        "outputId": "09ab8bdf-d7f4-429d-d403-7c0b10c9965e"
      },
      "execution_count": 24,
      "outputs": [
        {
          "output_type": "stream",
          "name": "stderr",
          "text": [
            "[nltk_data] Downloading package movie_reviews to /root/nltk_data...\n",
            "[nltk_data]   Package movie_reviews is already up-to-date!\n",
            "[nltk_data] Downloading package stopwords to /root/nltk_data...\n",
            "[nltk_data]   Package stopwords is already up-to-date!\n",
            "[nltk_data] Downloading package punkt to /root/nltk_data...\n",
            "[nltk_data]   Package punkt is already up-to-date!\n"
          ]
        },
        {
          "output_type": "execute_result",
          "data": {
            "text/plain": [
              "True"
            ]
          },
          "metadata": {},
          "execution_count": 24
        }
      ]
    },
    {
      "cell_type": "markdown",
      "source": [
        "Description of movie_reviews dataset"
      ],
      "metadata": {
        "id": "FM1f4pZVKUPg"
      }
    },
    {
      "cell_type": "code",
      "source": [
        "# A list of all the words in 'movie_reviews'\n",
        "movie_reviews.words()"
      ],
      "metadata": {
        "colab": {
          "base_uri": "https://localhost:8080/"
        },
        "id": "EGZDqHElKi0x",
        "outputId": "a4ed83b3-caa1-4319-baf7-0284bda2806b"
      },
      "execution_count": 8,
      "outputs": [
        {
          "output_type": "execute_result",
          "data": {
            "text/plain": [
              "['plot', ':', 'two', 'teen', 'couples', 'go', 'to', ...]"
            ]
          },
          "metadata": {},
          "execution_count": 8
        }
      ]
    },
    {
      "cell_type": "code",
      "source": [
        "# Prints total number of words in 'movie_reviews'\n",
        "len(movie_reviews.words())"
      ],
      "metadata": {
        "colab": {
          "base_uri": "https://localhost:8080/"
        },
        "id": "cNQA6wvSKlI-",
        "outputId": "7ac7a68d-70c9-4df5-b2b8-f07ddca4f051"
      },
      "execution_count": 9,
      "outputs": [
        {
          "output_type": "execute_result",
          "data": {
            "text/plain": [
              "1583820"
            ]
          },
          "metadata": {},
          "execution_count": 9
        }
      ]
    },
    {
      "cell_type": "code",
      "source": [
        "movie_reviews.categories()"
      ],
      "metadata": {
        "colab": {
          "base_uri": "https://localhost:8080/"
        },
        "id": "tlYSTcHeKoV5",
        "outputId": "a1b36755-5d10-4c1b-b0a9-766848c083be"
      },
      "execution_count": 10,
      "outputs": [
        {
          "output_type": "execute_result",
          "data": {
            "text/plain": [
              "['neg', 'pos']"
            ]
          },
          "metadata": {},
          "execution_count": 10
        }
      ]
    },
    {
      "cell_type": "code",
      "source": [
        "# Displays frequency of words in ‘movie_reviews’\n",
        "nltk.FreqDist(movie_reviews.words())"
      ],
      "metadata": {
        "colab": {
          "base_uri": "https://localhost:8080/"
        },
        "id": "M2rcD3HyKtvJ",
        "outputId": "f7093702-e8a4-4620-93e7-2302f8dcb7a1"
      },
      "execution_count": 11,
      "outputs": [
        {
          "output_type": "execute_result",
          "data": {
            "text/plain": [
              "FreqDist({',': 77717, 'the': 76529, '.': 65876, 'a': 38106, 'and': 35576, 'of': 34123, 'to': 31937, \"'\": 30585, 'is': 25195, 'in': 21822, ...})"
            ]
          },
          "metadata": {},
          "execution_count": 11
        }
      ]
    },
    {
      "cell_type": "markdown",
      "source": [
        "Preprocess the dataset and extract features"
      ],
      "metadata": {
        "id": "vTNxvrBiF9Vr"
      }
    },
    {
      "cell_type": "code",
      "source": [
        "def extract_features(word_list):\n",
        "    return dict([(word, True) for word in word_list])"
      ],
      "metadata": {
        "id": "1Rq_eAizFq4a"
      },
      "execution_count": 5,
      "outputs": []
    },
    {
      "cell_type": "markdown",
      "source": [
        "Load the movie_reviews from NLTK"
      ],
      "metadata": {
        "id": "LPvd_hZlHYX0"
      }
    },
    {
      "cell_type": "code",
      "source": [
        "documents = [(list(movie_reviews.words(fileid)), category)\n",
        "              for category in movie_reviews.categories()\n",
        "              for fileid in movie_reviews.fileids(category)]"
      ],
      "metadata": {
        "id": "6HqwdOi2HijE"
      },
      "execution_count": 6,
      "outputs": []
    },
    {
      "cell_type": "code",
      "source": [
        "# shuffle the dataset to ensure random distribution\n",
        "random.shuffle(documents)"
      ],
      "metadata": {
        "id": "JZQOJcGnIlr_"
      },
      "execution_count": 7,
      "outputs": []
    },
    {
      "cell_type": "markdown",
      "source": [
        "Prepair the dataset for traing and testing"
      ],
      "metadata": {
        "id": "HyvXu0YAI-4I"
      }
    },
    {
      "cell_type": "code",
      "source": [
        "featuresets = [(extract_features(d), c) for (d,c) in documents]\n",
        "train_set, test_set = train_test_split(featuresets, test_size=0.2, random_state=42)\n"
      ],
      "metadata": {
        "id": "4i0VYDTjI9ct"
      },
      "execution_count": 14,
      "outputs": []
    },
    {
      "cell_type": "markdown",
      "source": [
        "Train Naive Bayes classifier"
      ],
      "metadata": {
        "id": "fDZu7bZILn3G"
      }
    },
    {
      "cell_type": "code",
      "source": [
        "clf = NaiveBayesClassifier.train(train_set)\n"
      ],
      "metadata": {
        "id": "xuJ3z64cLz9y"
      },
      "execution_count": 17,
      "outputs": []
    },
    {
      "cell_type": "markdown",
      "source": [
        "Evaluate the classifier on the test set"
      ],
      "metadata": {
        "id": "FIaBzjqiMvzk"
      }
    },
    {
      "cell_type": "code",
      "source": [
        "accuracy = nltk_accuracy(clf, test_set)\n",
        "print('Accuracy:', accuracy)"
      ],
      "metadata": {
        "colab": {
          "base_uri": "https://localhost:8080/"
        },
        "id": "QGo8GguYM6UN",
        "outputId": "8aa051aa-47af-4e77-d205-26ae36620eb2"
      },
      "execution_count": 18,
      "outputs": [
        {
          "output_type": "stream",
          "name": "stdout",
          "text": [
            "Accuracy: 0.7225\n"
          ]
        }
      ]
    },
    {
      "cell_type": "markdown",
      "source": [
        "Show the most informative features"
      ],
      "metadata": {
        "id": "CoQUN-OvNQqP"
      }
    },
    {
      "cell_type": "code",
      "source": [
        "clf.show_most_informative_features(10)"
      ],
      "metadata": {
        "colab": {
          "base_uri": "https://localhost:8080/"
        },
        "id": "H_LZWlyJNX_t",
        "outputId": "a00b4166-04d0-4400-a62f-493fde9a51cc"
      },
      "execution_count": 19,
      "outputs": [
        {
          "output_type": "stream",
          "name": "stdout",
          "text": [
            "Most Informative Features\n",
            "               ludicrous = True              neg : pos    =     12.5 : 1.0\n",
            "                  regard = True              pos : neg    =     11.1 : 1.0\n",
            "                 idiotic = True              neg : pos    =     10.5 : 1.0\n",
            "                thematic = True              pos : neg    =     10.4 : 1.0\n",
            "             outstanding = True              pos : neg    =     10.2 : 1.0\n",
            "               marvelous = True              pos : neg    =      9.9 : 1.0\n",
            "               affecting = True              pos : neg    =      9.7 : 1.0\n",
            "                  avoids = True              pos : neg    =      9.7 : 1.0\n",
            "                    owes = True              pos : neg    =      9.7 : 1.0\n",
            "                    taxi = True              pos : neg    =      9.7 : 1.0\n"
          ]
        }
      ]
    },
    {
      "cell_type": "markdown",
      "source": [
        "Test on new input sentences"
      ],
      "metadata": {
        "id": "CzY2Vc3ONnHB"
      }
    },
    {
      "cell_type": "code",
      "source": [
        "def analyze_sentiment(text):\n",
        "  # Tokenize and remove stopword\n",
        "  words = nltk.word_tokenize(text)\n",
        "  words = [word.lower() for word in words if word.isalpha()]\n",
        "  words = [word for word in words if word not in stopwords.words('english')]\n",
        "\n",
        "  # Predict sentiment\n",
        "  features = extract_features(words)\n",
        "  sentiment = clf.classify(features)\n",
        "  return sentiment"
      ],
      "metadata": {
        "id": "ZwVQ5H-UNbrF"
      },
      "execution_count": 25,
      "outputs": []
    },
    {
      "cell_type": "code",
      "source": [
        "# prompt: write some sentences review about movie to test analyze_sentiment function\n",
        "sentences = [\n",
        "    \"This movie was absolutely awful, the worst I've ever seen.\",  # Negative\n",
        "    \"I thoroughly enjoyed this film, it was captivating from beginning to end.\", # Positive\n",
        "    \"The plot was predictable and the acting mediocre.\", # Negative\n",
        "    \"A truly stunning cinematic masterpiece, a must-watch!\", # Positive\n",
        "    \"I found the dialogue confusing and the characters unrelatable.\", # Negative\n",
        "    \"Visually impressive, but the story lacked depth.\", # Mixed (leaning negative)\n",
        "    \"A great film with excellent performances and a gripping narrative.\", # Positive\n",
        "    \"The special effects were amazing, but the story was weak.\", # Mixed (leaning positive)\n",
        "    \"Not a good movie. Very boring\", #Negative\n",
        "    \"A fantastic movie that deserves all the praise it's getting!\", #Positive\n",
        "]\n",
        "\n",
        "for sentence in sentences:\n",
        "    sentiment = analyze_sentiment(sentence)\n",
        "    print(f\"Sentence: {sentence}\")\n",
        "    print(f\"Sentiment: {sentiment}\")\n",
        "    print(\"-\" * 20)\n"
      ],
      "metadata": {
        "colab": {
          "base_uri": "https://localhost:8080/"
        },
        "id": "mpjdtNQ3OacB",
        "outputId": "6df2909a-4c43-4ab0-f366-fc8b1d9200cd"
      },
      "execution_count": 28,
      "outputs": [
        {
          "output_type": "stream",
          "name": "stdout",
          "text": [
            "Sentence: This movie was absolutely awful, the worst I've ever seen.\n",
            "Sentiment: neg\n",
            "--------------------\n",
            "Sentence: I thoroughly enjoyed this film, it was captivating from beginning to end.\n",
            "Sentiment: pos\n",
            "--------------------\n",
            "Sentence: The plot was predictable and the acting mediocre.\n",
            "Sentiment: neg\n",
            "--------------------\n",
            "Sentence: A truly stunning cinematic masterpiece, a must-watch!\n",
            "Sentiment: pos\n",
            "--------------------\n",
            "Sentence: I found the dialogue confusing and the characters unrelatable.\n",
            "Sentiment: neg\n",
            "--------------------\n",
            "Sentence: Visually impressive, but the story lacked depth.\n",
            "Sentiment: pos\n",
            "--------------------\n",
            "Sentence: A great film with excellent performances and a gripping narrative.\n",
            "Sentiment: pos\n",
            "--------------------\n",
            "Sentence: The special effects were amazing, but the story was weak.\n",
            "Sentiment: pos\n",
            "--------------------\n",
            "Sentence: Not a good movie. Very boring\n",
            "Sentiment: neg\n",
            "--------------------\n",
            "Sentence: A fantastic movie that deserves all the praise it's getting!\n",
            "Sentiment: pos\n",
            "--------------------\n"
          ]
        }
      ]
    }
  ]
}