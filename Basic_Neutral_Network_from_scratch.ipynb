{
  "nbformat": 4,
  "nbformat_minor": 0,
  "metadata": {
    "colab": {
      "provenance": []
    },
    "kernelspec": {
      "name": "python3",
      "display_name": "Python 3"
    },
    "language_info": {
      "name": "python"
    }
  },
  "cells": [
    {
      "cell_type": "markdown",
      "source": [
        "# Basic Neutral Network from scratch"
      ],
      "metadata": {
        "id": "jzVNT5JoZHs2"
      }
    },
    {
      "cell_type": "code",
      "execution_count": 1,
      "metadata": {
        "id": "tO26hHwUY83g"
      },
      "outputs": [],
      "source": [
        "import numpy as np"
      ]
    },
    {
      "cell_type": "code",
      "source": [
        "# Sigmoid activation function and its derivative\n",
        "def sigmoid(x):\n",
        "  return 1/(1 + np.exp(-x))\n",
        "\n",
        "def sigmoid_derivative(x):\n",
        "  return x * (1 - x)"
      ],
      "metadata": {
        "id": "SdMlDxZiZVDX"
      },
      "execution_count": 4,
      "outputs": []
    },
    {
      "cell_type": "code",
      "source": [
        "# Mean Squared Error (MSE) loss function\n",
        "def mse_loss(y_true, y_pred):\n",
        "  return np.mean(np.square(y_true - y_pred))"
      ],
      "metadata": {
        "id": "TBlmHoIqZsYS"
      },
      "execution_count": 3,
      "outputs": []
    },
    {
      "cell_type": "code",
      "source": [
        "# Basic Neutral Network class\n",
        "class NeuralNetwork:\n",
        "  def __init__(self, input_size, hidden_size, output_size):\n",
        "    # Initialize weights and biases with random values\n",
        "    self.weights_input_hidden = np.random.randn(input_size, hidden_size)\n",
        "    self.weights_hidden_output = np.random.randn(hidden_size, output_size)\n",
        "    self.bias_hiden = np.random.randn(1, hidden_size)\n",
        "    self.bias_output = np.random.randn(1, output_size)\n",
        "\n",
        "  # Forward\n",
        "  def forward(self, x):\n",
        "    # Hidden layer calculation\n",
        "    self.hidden_input = np.dot(x, self.weights_input_hidden) + self.bias_hiden\n",
        "    self.hidden_output = sigmoid(self.hidden_input)\n",
        "\n",
        "    # Output layer calculation\n",
        "    self.output_input = np.dot(self.hidden_output, self.weights_hidden_output)\n",
        "    self.predicted_output = sigmoid(self.output_input)\n",
        "    return self.predicted_output\n",
        "\n",
        "  # Backward\n",
        "  def backward(self, x, y, output, learning_rate):\n",
        "    # Calculate error\n",
        "    output_error = y - output\n",
        "    output_delta = output_error * sigmoid_derivative(output)\n",
        "\n",
        "    # Error and delta for hidden layer\n",
        "    hidden_error = np.dot(output_delta, self.weights_hidden_output.T)\n",
        "    hidden_delta = hidden_error * sigmoid_derivative(self.hidden_output)\n",
        "\n",
        "    # Update weights and biases using gradient descent\n",
        "    self.weights_hidden_output += self.hidden_output.T.dot(output_delta) * learning_rate\n",
        "    self.bias_output += np.sum(output_delta, axis=0, keepdims=True) * learning_rate\n",
        "    self.weights_input_hidden += x.T.dot(hidden_delta) * learning_rate\n",
        "    self.bias_hiden += np.sum(hidden_delta, axis=0, keepdims=True) * learning_rate\n",
        "\n",
        "  # Train\n",
        "  def train(self, x, y, learning_rate=0.1, epochs=10000):\n",
        "    for epoch in range(epochs):\n",
        "      output = self.forward(x)\n",
        "      self.backward(x, y, output, learning_rate)\n",
        "\n",
        "      if epoch % 1000 == 0:\n",
        "        loss = mse_loss(y, output)\n",
        "        print(f\"Epoch {epoch}, Loss: {loss}\")"
      ],
      "metadata": {
        "id": "g3LGSXvAZ9qg"
      },
      "execution_count": 5,
      "outputs": []
    },
    {
      "cell_type": "code",
      "source": [
        "# XOR dataset (used to test the neural network)\n",
        "X = np.array([[0, 0], [0, 1], [1, 0], [1, 1]])  # Input data\n",
        "y = np.array([[0], [1], [1], [0]])  # Expected output (XOR)\n",
        "\n",
        "# Create a neural network instance with 2 input neurons, 2 hidden neurons, and 1 output neuron\n",
        "nn = NeuralNetwork(input_size=2, hidden_size=2, output_size=1)\n",
        "\n",
        "# Train the neural network\n",
        "nn.train(X, y, epochs=10000, learning_rate=0.1)\n",
        "\n",
        "# Test the neural network with the XOR dataset\n",
        "print(\"\\nTesting the trained neural network:\")\n",
        "for i in range(len(X)):\n",
        "    print(f\"Input: {X[i]}, Predicted Output: {nn.forward(X[i])}, Actual Output: {y[i]}\")"
      ],
      "metadata": {
        "colab": {
          "base_uri": "https://localhost:8080/"
        },
        "id": "TpZHZtV3c5Ud",
        "outputId": "48e22820-750e-4169-8c84-d37b1a83528d"
      },
      "execution_count": 13,
      "outputs": [
        {
          "output_type": "stream",
          "name": "stdout",
          "text": [
            "Epoch 0, Loss: 0.36556404777850837\n",
            "Epoch 1000, Loss: 0.23742662572498785\n",
            "Epoch 2000, Loss: 0.18973024237048375\n",
            "Epoch 3000, Loss: 0.15251872774021746\n",
            "Epoch 4000, Loss: 0.1390060148188574\n",
            "Epoch 5000, Loss: 0.1338174195907995\n",
            "Epoch 6000, Loss: 0.13128829391140046\n",
            "Epoch 7000, Loss: 0.1298348777567788\n",
            "Epoch 8000, Loss: 0.12890429889394533\n",
            "Epoch 9000, Loss: 0.12826241247735892\n",
            "\n",
            "Testing the trained neural network:\n",
            "Input: [0 0], Predicted Output: [[0.04478809]], Actual Output: [0]\n",
            "Input: [0 1], Predicted Output: [[0.95149857]], Actual Output: [1]\n",
            "Input: [1 0], Predicted Output: [[0.49760008]], Actual Output: [1]\n",
            "Input: [1 1], Predicted Output: [[0.50439719]], Actual Output: [0]\n"
          ]
        }
      ]
    }
  ]
}