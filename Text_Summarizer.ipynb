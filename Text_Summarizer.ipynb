{
  "nbformat": 4,
  "nbformat_minor": 0,
  "metadata": {
    "colab": {
      "provenance": []
    },
    "kernelspec": {
      "name": "python3",
      "display_name": "Python 3"
    },
    "language_info": {
      "name": "python"
    }
  },
  "cells": [
    {
      "cell_type": "markdown",
      "source": [
        "# Text Summarizer using nltk"
      ],
      "metadata": {
        "id": "o_nGW0gvRmV0"
      }
    },
    {
      "cell_type": "code",
      "execution_count": 1,
      "metadata": {
        "colab": {
          "base_uri": "https://localhost:8080/"
        },
        "id": "U7A7f9W0Re5y",
        "outputId": "b4380f50-9b4e-4d40-fb24-c4f5e2a4d8e9"
      },
      "outputs": [
        {
          "output_type": "stream",
          "name": "stdout",
          "text": [
            "Requirement already satisfied: nltk in /usr/local/lib/python3.11/dist-packages (3.9.1)\n",
            "Requirement already satisfied: click in /usr/local/lib/python3.11/dist-packages (from nltk) (8.1.8)\n",
            "Requirement already satisfied: joblib in /usr/local/lib/python3.11/dist-packages (from nltk) (1.4.2)\n",
            "Requirement already satisfied: regex>=2021.8.3 in /usr/local/lib/python3.11/dist-packages (from nltk) (2024.11.6)\n",
            "Requirement already satisfied: tqdm in /usr/local/lib/python3.11/dist-packages (from nltk) (4.67.1)\n"
          ]
        }
      ],
      "source": [
        "!pip install nltk"
      ]
    },
    {
      "cell_type": "code",
      "source": [
        "# Import required libraries\n",
        "import nltk\n",
        "from nltk.corpus import stopwords\n",
        "from nltk.tokenize import word_tokenize, sent_tokenize"
      ],
      "metadata": {
        "id": "nQBXoqXNRyDQ"
      },
      "execution_count": 2,
      "outputs": []
    },
    {
      "cell_type": "code",
      "source": [
        "nltk.download('stopwords')\n",
        "nltk.download('punkt_tab')"
      ],
      "metadata": {
        "colab": {
          "base_uri": "https://localhost:8080/"
        },
        "id": "U2mCBEdgR6HX",
        "outputId": "e02e761a-47da-4d04-dc42-d76a2a78db16"
      },
      "execution_count": 8,
      "outputs": [
        {
          "output_type": "stream",
          "name": "stderr",
          "text": [
            "[nltk_data] Downloading package stopwords to /root/nltk_data...\n",
            "[nltk_data]   Package stopwords is already up-to-date!\n",
            "[nltk_data] Downloading package punkt_tab to /root/nltk_data...\n",
            "[nltk_data]   Unzipping tokenizers/punkt_tab.zip.\n"
          ]
        },
        {
          "output_type": "execute_result",
          "data": {
            "text/plain": [
              "True"
            ]
          },
          "metadata": {},
          "execution_count": 8
        }
      ]
    },
    {
      "cell_type": "code",
      "source": [
        "# Example text for summarization\n",
        "text = \"\"\"\n",
        "Artificial Intelligence (AI) has rapidly transformed from a theoretical concept into a powerful force shaping various industries. Over the past decades, advancements in machine learning, deep learning, and natural language processing have enabled AI to perform complex tasks, such as image recognition, speech synthesis, and decision-making. AI-driven systems are now widely used in healthcare, finance, autonomous vehicles, and customer service, enhancing efficiency and accuracy.\n",
        "One of the most significant breakthroughs in AI is the development of large language models, which can generate human-like text, translate languages, and even assist in creative writing. Additionally, AI-powered robotics is revolutionizing manufacturing and automation, reducing human effort while increasing productivity. Despite its remarkable progress, AI still faces challenges, including ethical concerns, data privacy, and biases in machine learning models.\n",
        "As AI continues to evolve, researchers and engineers are working towards creating more transparent, fair, and accountable systems. The future of AI holds immense potential, from personalized healthcare solutions to advanced autonomous systems, ultimately shaping a smarter and more connected world.\n",
        "\"\"\""
      ],
      "metadata": {
        "id": "GiofAsFHR9nz"
      },
      "execution_count": 9,
      "outputs": []
    },
    {
      "cell_type": "code",
      "source": [
        "# Funtion to generate a frequency-based summary\n",
        "def summarizeText(text, num_sentences=3):\n",
        "    # Tokenize the text into sentences\n",
        "    sentences = sent_tokenize(text)\n",
        "\n",
        "    # Tokenize the text into words\n",
        "    words = word_tokenize(text.lower())\n",
        "\n",
        "    # Filter out stopwords and non-alphabetic words\n",
        "    stop_words = set(stopwords.words('english'))\n",
        "    word_frequencies = {}\n",
        "    for word in words:\n",
        "        if word not in stop_words and word.isalpha():\n",
        "          word_frequencies[word] = word_frequencies.get(word, 0) + 1\n",
        "\n",
        "    # Calculate sentence scores based on word frequencies\n",
        "    scores = {}\n",
        "    for sentence in sentences:\n",
        "        for word in word_tokenize(sentence.lower()):\n",
        "            if word in word_frequencies:\n",
        "                scores[sentence] = scores.get(sentence, 0) + word_frequencies[word]\n",
        "\n",
        "    # Sort sentences by score in descending order\n",
        "    summary_sentences = sorted(scores, key=scores.get, reverse=True)[:num_sentences]\n",
        "    summary = ' '.join(summary_sentences)\n",
        "\n",
        "    return summary\n",
        ""
      ],
      "metadata": {
        "id": "Ut4ujQGkSels"
      },
      "execution_count": 10,
      "outputs": []
    },
    {
      "cell_type": "code",
      "source": [
        "# Generate and print summary\n",
        "summary = summarizeText(text, num_sentences=3)\n",
        "print(\"Original Text: \\n\", text)\n",
        "print(\"\\nSummary: \\n\", summary)"
      ],
      "metadata": {
        "colab": {
          "base_uri": "https://localhost:8080/"
        },
        "id": "DXy9Ckg3UDW4",
        "outputId": "95f41422-4994-4e56-c1ac-298e3062f79c"
      },
      "execution_count": 11,
      "outputs": [
        {
          "output_type": "stream",
          "name": "stdout",
          "text": [
            "Original Text: \n",
            " \n",
            "Artificial Intelligence (AI) has rapidly transformed from a theoretical concept into a powerful force shaping various industries. Over the past decades, advancements in machine learning, deep learning, and natural language processing have enabled AI to perform complex tasks, such as image recognition, speech synthesis, and decision-making. AI-driven systems are now widely used in healthcare, finance, autonomous vehicles, and customer service, enhancing efficiency and accuracy.\n",
            "One of the most significant breakthroughs in AI is the development of large language models, which can generate human-like text, translate languages, and even assist in creative writing. Additionally, AI-powered robotics is revolutionizing manufacturing and automation, reducing human effort while increasing productivity. Despite its remarkable progress, AI still faces challenges, including ethical concerns, data privacy, and biases in machine learning models.\n",
            "As AI continues to evolve, researchers and engineers are working towards creating more transparent, fair, and accountable systems. The future of AI holds immense potential, from personalized healthcare solutions to advanced autonomous systems, ultimately shaping a smarter and more connected world.\n",
            "\n",
            "\n",
            "Summary: \n",
            " Over the past decades, advancements in machine learning, deep learning, and natural language processing have enabled AI to perform complex tasks, such as image recognition, speech synthesis, and decision-making. The future of AI holds immense potential, from personalized healthcare solutions to advanced autonomous systems, ultimately shaping a smarter and more connected world. Despite its remarkable progress, AI still faces challenges, including ethical concerns, data privacy, and biases in machine learning models.\n"
          ]
        }
      ]
    }
  ]
}