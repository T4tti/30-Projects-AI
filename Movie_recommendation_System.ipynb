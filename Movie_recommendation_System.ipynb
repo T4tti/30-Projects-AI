{
  "nbformat": 4,
  "nbformat_minor": 0,
  "metadata": {
    "colab": {
      "provenance": []
    },
    "kernelspec": {
      "name": "python3",
      "display_name": "Python 3"
    },
    "language_info": {
      "name": "python"
    }
  },
  "cells": [
    {
      "cell_type": "markdown",
      "source": [
        "# Movie recommendation System using cosine similarity\n"
      ],
      "metadata": {
        "id": "xKZJa3hA_bh8"
      }
    },
    {
      "cell_type": "code",
      "source": [
        "# Import necessary libraries\n",
        "import pandas as pd\n",
        "from sklearn.metrics.pairwise import cosine_similarity\n",
        "from sklearn.feature_extraction.text import TfidfVectorizer"
      ],
      "metadata": {
        "id": "iW_MSu30B7i6"
      },
      "execution_count": 6,
      "outputs": []
    },
    {
      "cell_type": "code",
      "execution_count": 7,
      "metadata": {
        "id": "ZnliqHBl_Y4t"
      },
      "outputs": [],
      "source": [
        "\n",
        "\n",
        "# Sample movie dataset (You can replace this with a real movie dataset)\n",
        "\n",
        "data = {\n",
        "    'movie_id': list(range(1, 21)),  # More movies added\n",
        "    'title': [\n",
        "        'The Matrix', 'John Wick', 'The Godfather', 'Pulp Fiction', 'The Dark Knight',\n",
        "        'Inception', 'Interstellar', 'Fight Club', 'Forrest Gump', 'The Shawshank Redemption',\n",
        "        'The Avengers', 'Titanic', 'The Lord of the Rings: The Return of the King',\n",
        "        'Gladiator', 'The Lion King', 'Avengers: Endgame', 'Joker', 'Parasite',\n",
        "        'Coco', 'Whiplash'\n",
        "    ],\n",
        "    'genre': [\n",
        "        'Action, Sci-Fi', 'Action, Thriller', 'Crime, Drama', 'Crime, Drama', 'Action, Crime, Drama',\n",
        "        'Sci-Fi, Thriller', 'Sci-Fi, Drama', 'Drama', 'Drama, Romance', 'Drama, Crime',\n",
        "        'Action, Adventure, Sci-Fi', 'Romance, Drama', 'Action, Adventure, Fantasy',\n",
        "        'Action, Drama, History', 'Animation, Adventure, Drama', 'Action, Adventure, Sci-Fi',\n",
        "        'Crime, Drama, Thriller', 'Drama, Thriller', 'Animation, Adventure, Family', 'Drama, Music'\n",
        "    ]\n",
        "}\n",
        "\n"
      ]
    },
    {
      "cell_type": "code",
      "source": [
        "# Convert the dataset into a DataFrame\n",
        "df = pd.DataFrame(data)\n",
        "\n",
        "# Display the dataset\n",
        "print(\"Movie Data:\")\n",
        "print(df)\n"
      ],
      "metadata": {
        "colab": {
          "base_uri": "https://localhost:8080/"
        },
        "id": "ZUaLTtSFBSlW",
        "outputId": "77e8eedd-f73d-4b1a-b264-b8c133db1e7c"
      },
      "execution_count": 8,
      "outputs": [
        {
          "output_type": "stream",
          "name": "stdout",
          "text": [
            "Movie Data:\n",
            "    movie_id                                          title  \\\n",
            "0          1                                     The Matrix   \n",
            "1          2                                      John Wick   \n",
            "2          3                                  The Godfather   \n",
            "3          4                                   Pulp Fiction   \n",
            "4          5                                The Dark Knight   \n",
            "5          6                                      Inception   \n",
            "6          7                                   Interstellar   \n",
            "7          8                                     Fight Club   \n",
            "8          9                                   Forrest Gump   \n",
            "9         10                       The Shawshank Redemption   \n",
            "10        11                                   The Avengers   \n",
            "11        12                                        Titanic   \n",
            "12        13  The Lord of the Rings: The Return of the King   \n",
            "13        14                                      Gladiator   \n",
            "14        15                                  The Lion King   \n",
            "15        16                              Avengers: Endgame   \n",
            "16        17                                          Joker   \n",
            "17        18                                       Parasite   \n",
            "18        19                                           Coco   \n",
            "19        20                                       Whiplash   \n",
            "\n",
            "                           genre  \n",
            "0                 Action, Sci-Fi  \n",
            "1               Action, Thriller  \n",
            "2                   Crime, Drama  \n",
            "3                   Crime, Drama  \n",
            "4           Action, Crime, Drama  \n",
            "5               Sci-Fi, Thriller  \n",
            "6                  Sci-Fi, Drama  \n",
            "7                          Drama  \n",
            "8                 Drama, Romance  \n",
            "9                   Drama, Crime  \n",
            "10     Action, Adventure, Sci-Fi  \n",
            "11                Romance, Drama  \n",
            "12    Action, Adventure, Fantasy  \n",
            "13        Action, Drama, History  \n",
            "14   Animation, Adventure, Drama  \n",
            "15     Action, Adventure, Sci-Fi  \n",
            "16        Crime, Drama, Thriller  \n",
            "17               Drama, Thriller  \n",
            "18  Animation, Adventure, Family  \n",
            "19                  Drama, Music  \n"
          ]
        }
      ]
    },
    {
      "cell_type": "code",
      "source": [
        "# Define a TF-IDF Vectorizer to transform the genre text into vectors\n",
        "tfidf = TfidfVectorizer(stop_words='english')\n",
        "\n",
        "# Fit and transform the genre column into a matrix of TF-IDF features\n",
        "tfidf_matrix = tfidf.fit_transform(df['genre'])\n",
        "\n",
        "# Compute the cosine similarity matrix\n",
        "cosine_sim = cosine_similarity(tfidf_matrix, tfidf_matrix)"
      ],
      "metadata": {
        "id": "4GLM1qWLBbKM"
      },
      "execution_count": 9,
      "outputs": []
    },
    {
      "cell_type": "code",
      "source": [
        "# Function to recommend movies based on cosine similarity\n",
        "def get_recommendations(title, cosine_sim=cosine_sim):\n",
        "    # Get the index of the movie that matches the title\n",
        "    idx = df[df['title'] == title].index[0]\n",
        "\n",
        "    # Get the pairwise similarity scores of all movies with that movie\n",
        "    sim_scores = list(enumerate(cosine_sim[idx]))\n",
        "\n",
        "    # Sort the movies based on the similarity scores\n",
        "    sim_scores = sorted(sim_scores, key=lambda x: x[1], reverse=True)\n",
        "\n",
        "    # Get the indices of the 3 most similar movies\n",
        "    sim_scores = sim_scores[1:4]  # Exclude the movie itself, so start from 1\n",
        "\n",
        "    # Get the movie indices\n",
        "    movie_indices = [i[0] for i in sim_scores]\n",
        "\n",
        "    # Return the titles of the most similar movies\n",
        "    return df['title'].iloc[movie_indices]\n"
      ],
      "metadata": {
        "id": "0gTTwpELBcJM"
      },
      "execution_count": 10,
      "outputs": []
    },
    {
      "cell_type": "code",
      "source": [
        "# Test the recommendation system with an example\n",
        "movie_title = 'Titanic'\n",
        "recommended_movies = get_recommendations(movie_title)\n",
        "\n",
        "print(f\"\\nMovies recommended for '{movie_title}':\")\n",
        "for movie in recommended_movies:\n",
        "    print(movie)\n"
      ],
      "metadata": {
        "colab": {
          "base_uri": "https://localhost:8080/"
        },
        "id": "EOu-onf_Bf7l",
        "outputId": "f847a05e-a9fe-4883-be59-3c11cc72aae1"
      },
      "execution_count": 12,
      "outputs": [
        {
          "output_type": "stream",
          "name": "stdout",
          "text": [
            "\n",
            "Movies recommended for 'Titanic':\n",
            "Titanic\n",
            "Fight Club\n",
            "The Godfather\n"
          ]
        }
      ]
    }
  ]
}